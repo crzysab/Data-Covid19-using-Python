{
  "nbformat": 4,
  "nbformat_minor": 0,
  "metadata": {
    "colab": {
      "name": "Covid19-SumateraUtara.ipynb",
      "provenance": [],
      "authorship_tag": "ABX9TyPiPeo3CbzpYeUKGtYoOYW8",
      "include_colab_link": true
    },
    "kernelspec": {
      "name": "python3",
      "display_name": "Python 3"
    },
    "language_info": {
      "name": "python"
    }
  },
  "cells": [
    {
      "cell_type": "markdown",
      "metadata": {
        "id": "view-in-github",
        "colab_type": "text"
      },
      "source": [
        "<a href=\"https://colab.research.google.com/github/crzysab/Data-Covid19-using-Python/blob/main/Covid19_SumateraUtara.ipynb\" target=\"_parent\"><img src=\"https://colab.research.google.com/assets/colab-badge.svg\" alt=\"Open In Colab\"/></a>"
      ]
    },
    {
      "cell_type": "markdown",
      "metadata": {
        "id": "wsxRS-jVn5xd"
      },
      "source": [
        "**Eksplorasi dan Analisis Data COVID-19 Indonesia using Python**\n",
        "\n",
        "___"
      ]
    },
    {
      "cell_type": "markdown",
      "metadata": {
        "id": "gU0jvf8Gn_eU"
      },
      "source": [
        "Akses Data untuk Indonesia"
      ]
    },
    {
      "cell_type": "code",
      "metadata": {
        "id": "126cPLFuJIz2"
      },
      "source": [
        "import requests\n",
        "resp = requests.get('https://data.covid19.go.id/public/api/update.json')"
      ],
      "execution_count": 1,
      "outputs": []
    },
    {
      "cell_type": "code",
      "metadata": {
        "colab": {
          "base_uri": "https://localhost:8080/"
        },
        "id": "LudTQBpQKKCR",
        "outputId": "47a5e88d-4a97-40a6-da72-ce65c64cda1d"
      },
      "source": [
        "resp"
      ],
      "execution_count": 2,
      "outputs": [
        {
          "output_type": "execute_result",
          "data": {
            "text/plain": [
              "<Response [200]>"
            ]
          },
          "metadata": {},
          "execution_count": 2
        }
      ]
    },
    {
      "cell_type": "code",
      "metadata": {
        "colab": {
          "base_uri": "https://localhost:8080/"
        },
        "id": "CpJjBfJaKuNk",
        "outputId": "5f0e6cb7-06ca-4041-93d7-a9812b54ca92"
      },
      "source": [
        "resp.headers"
      ],
      "execution_count": 3,
      "outputs": [
        {
          "output_type": "execute_result",
          "data": {
            "text/plain": [
              "{'Server': 'nginx', 'Date': 'Mon, 06 Sep 2021 10:13:02 GMT', 'Content-Type': 'application/json', 'Transfer-Encoding': 'chunked', 'Connection': 'keep-alive', 'Vary': 'Accept-Encoding, Accept-Encoding', 'Last-Modified': 'Mon, 06 Sep 2021 10:10:03 GMT', 'ETag': 'W/\"6135e8fb-3443b\"', 'X-Content-Type-Options': 'nosniff, nosniff', 'X-XSS-Protection': '1; mode=block, 1; mode=block', 'Strict-Transport-Security': 'max-age=31536000; includeSubDomains; preload', 'Content-Encoding': 'gzip'}"
            ]
          },
          "metadata": {},
          "execution_count": 3
        }
      ]
    },
    {
      "cell_type": "code",
      "metadata": {
        "colab": {
          "base_uri": "https://localhost:8080/"
        },
        "id": "wI7sX86mN_Vy",
        "outputId": "c2844579-7ae9-4450-9f93-86efb59ec456"
      },
      "source": [
        "cov_id_raw = resp.json()\n",
        "print('Length of cov_id_raw : %d.' %len(cov_id_raw))\n",
        "print('Komponen cov_id_raw  : %s.' %cov_id_raw.keys())\n",
        "cov_id_update = cov_id_raw['update']"
      ],
      "execution_count": 4,
      "outputs": [
        {
          "output_type": "stream",
          "name": "stdout",
          "text": [
            "Length of cov_id_raw : 2.\n",
            "Komponen cov_id_raw  : dict_keys(['data', 'update']).\n"
          ]
        }
      ]
    },
    {
      "cell_type": "code",
      "metadata": {
        "colab": {
          "base_uri": "https://localhost:8080/"
        },
        "id": "v-_wovtbOoUx",
        "outputId": "b33fc3e5-ffbd-4954-adc9-de5a2b9f5560"
      },
      "source": [
        "cov_id_update.keys()"
      ],
      "execution_count": 5,
      "outputs": [
        {
          "output_type": "execute_result",
          "data": {
            "text/plain": [
              "dict_keys(['penambahan', 'harian', 'total'])"
            ]
          },
          "metadata": {},
          "execution_count": 5
        }
      ]
    },
    {
      "cell_type": "markdown",
      "metadata": {
        "id": "55MGxkz4oKy7"
      },
      "source": [
        "Melihat Jumlah Data untuk Indonesia"
      ]
    },
    {
      "cell_type": "code",
      "metadata": {
        "colab": {
          "base_uri": "https://localhost:8080/"
        },
        "id": "d8MdkOMpTWnr",
        "outputId": "9183fbea-07a6-4d54-e608-229ae631972a"
      },
      "source": [
        "print('Tanggal pembaharuan data penambahan kasus   :', cov_id_update['penambahan']['tanggal'])\n",
        "print('Jumlah penambahan kasus sembuh  :', cov_id_update['penambahan']['jumlah_sembuh'])\n",
        "print('Jumlah penambahan kasus meninggal  :', cov_id_update['penambahan']['jumlah_meninggal'])\n",
        "print('Jumlah total kasus positif hingga saat ini  :', cov_id_update['total']['jumlah_positif'])\n",
        "print('Jumlah total kasus meninggal hingga saat ini  :', cov_id_update['total']['jumlah_meninggal'])"
      ],
      "execution_count": 6,
      "outputs": [
        {
          "output_type": "stream",
          "name": "stdout",
          "text": [
            "Tanggal pembaharuan data penambahan kasus   : 2021-09-05\n",
            "Jumlah penambahan kasus sembuh  : 10191\n",
            "Jumlah penambahan kasus meninggal  : 392\n",
            "Jumlah total kasus positif hingga saat ini  : 4129020\n",
            "Jumlah total kasus meninggal hingga saat ini  : 135861\n"
          ]
        }
      ]
    },
    {
      "cell_type": "markdown",
      "metadata": {
        "id": "Ry7zstXyoSTw"
      },
      "source": [
        "Akses Data Sumatera Utara"
      ]
    },
    {
      "cell_type": "code",
      "metadata": {
        "id": "3WKWZWl7Vsxk"
      },
      "source": [
        "resp_sumut = requests.get('https://data.covid19.go.id/public/api/prov_detail_SUMATERA_UTARA.json')\n",
        "cov_sumut_raw = resp_sumut.json()"
      ],
      "execution_count": 7,
      "outputs": []
    },
    {
      "cell_type": "code",
      "metadata": {
        "colab": {
          "base_uri": "https://localhost:8080/"
        },
        "id": "9LO35ABZWFWX",
        "outputId": "d8f1bf6d-3dee-41b6-99db-1c0484ff39dc"
      },
      "source": [
        "resp_sumut"
      ],
      "execution_count": 8,
      "outputs": [
        {
          "output_type": "execute_result",
          "data": {
            "text/plain": [
              "<Response [200]>"
            ]
          },
          "metadata": {},
          "execution_count": 8
        }
      ]
    },
    {
      "cell_type": "code",
      "metadata": {
        "colab": {
          "base_uri": "https://localhost:8080/"
        },
        "id": "AYmlylEmWy36",
        "outputId": "1a72cb98-b935-4398-8e81-8ecf859d0237"
      },
      "source": [
        "for item in cov_sumut_raw.keys() :\n",
        "  print(item)"
      ],
      "execution_count": 9,
      "outputs": [
        {
          "output_type": "stream",
          "name": "stdout",
          "text": [
            "last_date\n",
            "provinsi\n",
            "kasus_total\n",
            "kasus_tanpa_tgl\n",
            "kasus_dengan_tgl\n",
            "meninggal_persen\n",
            "meninggal_tanpa_tgl\n",
            "meninggal_dengan_tgl\n",
            "sembuh_persen\n",
            "sembuh_tanpa_tgl\n",
            "sembuh_dengan_tgl\n",
            "list_perkembangan\n",
            "data\n"
          ]
        }
      ]
    },
    {
      "cell_type": "markdown",
      "metadata": {
        "id": "AL3sN73podV2"
      },
      "source": [
        "Melihat Data untuk Wilayah Sumatera Utara"
      ]
    },
    {
      "cell_type": "code",
      "metadata": {
        "colab": {
          "base_uri": "https://localhost:8080/"
        },
        "id": "exmOrmLWXgUw",
        "outputId": "28f643d4-9af7-409e-e664-5f014832fe81"
      },
      "source": [
        "print('\\nJumlah total kasus COVID-19 di Sumatera Utara                 : %d' %cov_sumut_raw['kasus_total'])\n",
        "print('Persentase kematian akibat COVID-19 di Sumatera Utara         : %f.2%%' %cov_sumut_raw['meninggal_persen'])\n",
        "print('Persentase tingkat kesembuhan dari COVID-19 di Sumatera Utara : %f.2%%' %cov_sumut_raw['sembuh_persen'])"
      ],
      "execution_count": 11,
      "outputs": [
        {
          "output_type": "stream",
          "name": "stdout",
          "text": [
            "\n",
            "Jumlah total kasus COVID-19 di Sumatera Utara                 : 99219\n",
            "Persentase kematian akibat COVID-19 di Sumatera Utara         : 2.482387.2%\n",
            "Persentase tingkat kesembuhan dari COVID-19 di Sumatera Utara : 79.459579.2%\n"
          ]
        }
      ]
    },
    {
      "cell_type": "code",
      "metadata": {
        "colab": {
          "base_uri": "https://localhost:8080/"
        },
        "id": "C5eicDxNYdcc",
        "outputId": "f448313d-f18d-4b9a-ffbf-e62876fe01e3"
      },
      "source": [
        "import numpy as np\n",
        "import pandas as pd\n",
        "\n",
        "cov_sumut = pd.DataFrame(cov_sumut_raw['list_perkembangan'])\n",
        "print('Info cov_sumut:\\n', cov_sumut.info())\n",
        "print('\\nLima data teratas cov_sumut:\\n', cov_sumut.head())"
      ],
      "execution_count": 12,
      "outputs": [
        {
          "output_type": "stream",
          "name": "stdout",
          "text": [
            "<class 'pandas.core.frame.DataFrame'>\n",
            "RangeIndex: 538 entries, 0 to 537\n",
            "Data columns (total 9 columns):\n",
            " #   Column                        Non-Null Count  Dtype\n",
            "---  ------                        --------------  -----\n",
            " 0   tanggal                       538 non-null    int64\n",
            " 1   KASUS                         538 non-null    int64\n",
            " 2   MENINGGAL                     538 non-null    int64\n",
            " 3   SEMBUH                        538 non-null    int64\n",
            " 4   DIRAWAT_OR_ISOLASI            538 non-null    int64\n",
            " 5   AKUMULASI_KASUS               538 non-null    int64\n",
            " 6   AKUMULASI_SEMBUH              538 non-null    int64\n",
            " 7   AKUMULASI_MENINGGAL           538 non-null    int64\n",
            " 8   AKUMULASI_DIRAWAT_OR_ISOLASI  538 non-null    int64\n",
            "dtypes: int64(9)\n",
            "memory usage: 38.0 KB\n",
            "Info cov_sumut:\n",
            " None\n",
            "\n",
            "Lima data teratas cov_sumut:\n",
            "          tanggal  KASUS  ...  AKUMULASI_MENINGGAL  AKUMULASI_DIRAWAT_OR_ISOLASI\n",
            "0  1584403200000      1  ...                    1                             0\n",
            "1  1584489600000      0  ...                    1                             0\n",
            "2  1584576000000      0  ...                    1                             0\n",
            "3  1584662400000      0  ...                    1                             0\n",
            "4  1584748800000      0  ...                    1                             0\n",
            "\n",
            "[5 rows x 9 columns]\n"
          ]
        }
      ]
    },
    {
      "cell_type": "code",
      "metadata": {
        "colab": {
          "base_uri": "https://localhost:8080/"
        },
        "id": "N0Q7W-tubTHp",
        "outputId": "24a14c13-de25-45a6-9c44-b1703b9b9cb7"
      },
      "source": [
        "import numpy as np\n",
        "import pandas as pd\n",
        "\n",
        "cov_sumut_tidy = (cov_sumut.drop(columns=[item for item in cov_sumut.columns \n",
        "                                               if item.startswith('AKUMULASI') \n",
        "                                                  or item.startswith('DIRAWAT')])\n",
        "                           .rename(columns=str.lower)\n",
        "                           .rename(columns={'kasus': 'kasus_baru'})\n",
        "                  )\n",
        "cov_sumut_tidy['tanggal'] = pd.to_datetime(cov_sumut_tidy['tanggal']*1e6, unit='ns')\n",
        "print('Lima data teratas:\\n', cov_sumut_tidy.head())"
      ],
      "execution_count": 13,
      "outputs": [
        {
          "output_type": "stream",
          "name": "stdout",
          "text": [
            "Lima data teratas:\n",
            "      tanggal  kasus_baru  meninggal  sembuh\n",
            "0 2020-03-17           1          1       0\n",
            "1 2020-03-18           0          0       0\n",
            "2 2020-03-19           0          0       0\n",
            "3 2020-03-20           0          0       0\n",
            "4 2020-03-21           0          0       0\n"
          ]
        }
      ]
    },
    {
      "cell_type": "code",
      "metadata": {
        "colab": {
          "base_uri": "https://localhost:8080/"
        },
        "id": "QinyG-gqm0K4",
        "outputId": "8cd5e1f4-4843-4a71-c1ce-dc6fa04c912c"
      },
      "source": [
        "cov_sumut_tidy.columns"
      ],
      "execution_count": 15,
      "outputs": [
        {
          "output_type": "execute_result",
          "data": {
            "text/plain": [
              "Index(['tanggal', 'kasus_baru', 'meninggal', 'sembuh'], dtype='object')"
            ]
          },
          "metadata": {},
          "execution_count": 15
        }
      ]
    },
    {
      "cell_type": "markdown",
      "metadata": {
        "id": "9axjVJErojJn"
      },
      "source": [
        "Visualisasi Data Covid-19 wilayah Sumatera Utara"
      ]
    },
    {
      "cell_type": "code",
      "metadata": {
        "colab": {
          "base_uri": "https://localhost:8080/",
          "height": 354
        },
        "id": "BImgMXZGdSce",
        "outputId": "9087c789-9709-4462-930d-92f3a1f07704"
      },
      "source": [
        "import matplotlib.pyplot as plt\n",
        "\n",
        "plt.clf()\n",
        "fig, ax = plt.subplots(figsize=(10,5))\n",
        "ax.bar(data=cov_sumut_tidy, x='tanggal', height='kasus_baru')"
      ],
      "execution_count": 16,
      "outputs": [
        {
          "output_type": "execute_result",
          "data": {
            "text/plain": [
              "<BarContainer object of 538 artists>"
            ]
          },
          "metadata": {},
          "execution_count": 16
        },
        {
          "output_type": "display_data",
          "data": {
            "text/plain": [
              "<Figure size 432x288 with 0 Axes>"
            ]
          },
          "metadata": {}
        },
        {
          "output_type": "display_data",
          "data": {
            "image/png": "[encoded data removed]",
            "text/plain": [
              "<Figure size 720x360 with 1 Axes>"
            ]
          },
          "metadata": {
            "needs_background": "light"
          }
        }
      ]
    },
    {
      "cell_type": "code",
      "metadata": {
        "colab": {
          "base_uri": "https://localhost:8080/",
          "height": 388
        },
        "id": "q7Ruqwg4qxFt",
        "outputId": "9be10fc5-7f95-409c-e541-9e7a0039deb7"
      },
      "source": [
        "import matplotlib.dates as mdates\n",
        "\n",
        "plt.clf()\n",
        "fig, ax = plt.subplots(figsize=(10,5))\n",
        "ax.bar(data=cov_sumut_tidy, x='tanggal', height='kasus_baru', color='salmon')\n",
        "fig.suptitle(\"Kasus Harian Positif COVID-19 di Sumatera Utara\", \n",
        "             y=1.00, fontsize=16, fontweight='bold', ha='center')\n",
        "ax.set_title(\" \",fontsize=10)\n",
        "ax.set_xlabel('')\n",
        "ax.set_ylabel(\"Jumlah Kasus\")\n",
        "ax.text(1, -0.3, \"Sumber data: covid19.go.id\", color='blue',\n",
        "        ha='right', transform=ax.transAxes)\n",
        "ax.set_xticklabels(ax.get_xticks(), rotation=90)\n",
        "\n",
        "ax.xaxis.set_major_locator(mdates.MonthLocator())\n",
        "ax.xaxis.set_major_formatter(mdates.DateFormatter('%b %Y'))\n",
        "\n",
        "plt.grid(axis='y')\n",
        "plt.tight_layout()\n",
        "plt.show()"
      ],
      "execution_count": 17,
      "outputs": [
        {
          "output_type": "display_data",
          "data": {
            "text/plain": [
              "<Figure size 432x288 with 0 Axes>"
            ]
          },
          "metadata": {}
        },
        {
          "output_type": "display_data",
          "data": {
            "image/png": "[encoded data removed]",
            "text/plain": [
              "<Figure size 720x360 with 1 Axes>"
            ]
          },
          "metadata": {
            "needs_background": "light"
          }
        }
      ]
    },
    {
      "cell_type": "code",
      "metadata": {
        "colab": {
          "base_uri": "https://localhost:8080/",
          "height": 388
        },
        "id": "xEQux6VFzpma",
        "outputId": "8bb89172-611c-4d56-a62b-5c3aba91149a"
      },
      "source": [
        "plt.clf()\n",
        "fig, ax = plt.subplots(figsize=(10,5))\n",
        "ax.bar(data=cov_sumut_tidy, x='tanggal', height='sembuh', color='olivedrab')\n",
        "fig.suptitle(\"Kasus Harian Sembuh Dari COVID-19 di Sumatera Utara\", \n",
        "             y=1.00, fontsize=16, fontweight='bold', ha='center')\n",
        "ax.set_title(\" \",fontsize=10)\n",
        "ax.set_xlabel('')\n",
        "ax.set_ylabel(\"Jumlah Kasus\")\n",
        "ax.text(1, -0.3, \"Sumber data: covid19.go.id\", color='blue',\n",
        "        ha='right', transform=ax.transAxes)\n",
        "ax.set_xticklabels(ax.get_xticks(), rotation=90)\n",
        "\n",
        "ax.xaxis.set_major_locator(mdates.MonthLocator())\n",
        "ax.xaxis.set_major_formatter(mdates.DateFormatter('%b %Y'))\n",
        "\n",
        "plt.grid(axis='y')\n",
        "plt.tight_layout()\n",
        "plt.show()"
      ],
      "execution_count": 18,
      "outputs": [
        {
          "output_type": "display_data",
          "data": {
            "text/plain": [
              "<Figure size 432x288 with 0 Axes>"
            ]
          },
          "metadata": {}
        },
        {
          "output_type": "display_data",
          "data": {
            "image/png": "[encoded data removed]",
            "text/plain": [
              "<Figure size 720x360 with 1 Axes>"
            ]
          },
          "metadata": {
            "needs_background": "light"
          }
        }
      ]
    },
    {
      "cell_type": "code",
      "metadata": {
        "colab": {
          "base_uri": "https://localhost:8080/",
          "height": 388
        },
        "id": "sxSxTxXS1rXI",
        "outputId": "42e059b0-9b89-42fd-8a72-782482875af5"
      },
      "source": [
        "plt.clf()\n",
        "fig, ax = plt.subplots(figsize=(10,5))\n",
        "ax.bar(data=cov_sumut_tidy, x='tanggal', height='meninggal', color='slategrey')\n",
        "fig.suptitle(\"Kasus Harian Meninggal Dari COVID-19 di Sumatera Utara\", \n",
        "             y=1.00, fontsize=16, fontweight='bold', ha='center')\n",
        "ax.set_title(\" \",fontsize=10)\n",
        "ax.set_xlabel('')\n",
        "ax.set_ylabel(\"Jumlah Kasus\")\n",
        "ax.text(1, -0.3, \"Sumber data: covid19.go.id\", color='blue',\n",
        "        ha='right', transform=ax.transAxes)\n",
        "ax.set_xticklabels(ax.get_xticks(), rotation=90)\n",
        "\n",
        "ax.xaxis.set_major_locator(mdates.MonthLocator())\n",
        "ax.xaxis.set_major_formatter(mdates.DateFormatter('%b %Y'))\n",
        "\n",
        "plt.grid(axis='y')\n",
        "plt.tight_layout()\n",
        "plt.show()"
      ],
      "execution_count": 19,
      "outputs": [
        {
          "output_type": "display_data",
          "data": {
            "text/plain": [
              "<Figure size 432x288 with 0 Axes>"
            ]
          },
          "metadata": {}
        },
        {
          "output_type": "display_data",
          "data": {
            "image/png": "[encoded data removed]",
            "text/plain": [
              "<Figure size 720x360 with 1 Axes>"
            ]
          },
          "metadata": {
            "needs_background": "light"
          }
        }
      ]
    },
    {
      "cell_type": "markdown",
      "metadata": {
        "id": "sPh0bcwaoo5B"
      },
      "source": [
        "Melihat Data Mingguan"
      ]
    },
    {
      "cell_type": "code",
      "metadata": {
        "colab": {
          "base_uri": "https://localhost:8080/"
        },
        "id": "wuQybrqUmc0M",
        "outputId": "56a8ea17-ce6c-4bdd-9821-6437b5c6ac06"
      },
      "source": [
        "cov_sumut_mingguan = (cov_sumut_tidy.set_index('tanggal')['kasus_baru']\n",
        ".resample('W')\n",
        ".sum()\n",
        ".reset_index()\n",
        ".rename(columns={'kasus_baru': 'jumlah'})\n",
        ")\n",
        "cov_sumut_mingguan['tahun'] = cov_sumut_mingguan['tanggal'].apply(lambda x: x.year)\n",
        "cov_sumut_mingguan['minggu_ke'] = cov_sumut_mingguan['tanggal'].apply(lambda x: x.weekofyear)\n",
        "cov_sumut_mingguan = cov_sumut_mingguan[['tahun', 'minggu_ke', 'jumlah']]\n",
        "\n",
        "print('Info cov_sumut_mingguan:')\n",
        "print(cov_sumut_mingguan.info())\n",
        "print('\\nLima data teratas cov_sumut_mingguan:\\n', cov_sumut_mingguan.head(10))"
      ],
      "execution_count": 23,
      "outputs": [
        {
          "output_type": "stream",
          "name": "stdout",
          "text": [
            "Info cov_sumut_mingguan:\n",
            "<class 'pandas.core.frame.DataFrame'>\n",
            "RangeIndex: 77 entries, 0 to 76\n",
            "Data columns (total 3 columns):\n",
            " #   Column     Non-Null Count  Dtype\n",
            "---  ------     --------------  -----\n",
            " 0   tahun      77 non-null     int64\n",
            " 1   minggu_ke  77 non-null     int64\n",
            " 2   jumlah     77 non-null     int64\n",
            "dtypes: int64(3)\n",
            "memory usage: 1.9 KB\n",
            "None\n",
            "\n",
            "Lima data teratas cov_sumut_mingguan:\n",
            "    tahun  minggu_ke  jumlah\n",
            "0   2020         12       1\n",
            "1   2020         13       0\n",
            "2   2020         14      17\n",
            "3   2020         15      40\n",
            "4   2020         16      16\n",
            "5   2020         17      30\n",
            "6   2020         18      12\n",
            "7   2020         19      56\n",
            "8   2020         20      39\n",
            "9   2020         21      93\n"
          ]
        }
      ]
    },
    {
      "cell_type": "code",
      "metadata": {
        "colab": {
          "base_uri": "https://localhost:8080/"
        },
        "id": "UgPt4c5CnQLs",
        "outputId": "f7bf329c-919f-47cc-df0e-0bb9e7d9d658"
      },
      "source": [
        "cov_sumut_mingguan['jumlah_pekanlalu'] = cov_sumut_mingguan['jumlah'].shift().replace(np.nan, 0).astype(np.int)\n",
        "cov_sumut_mingguan['lebih_baik'] = cov_sumut_mingguan['jumlah'] < cov_sumut_mingguan['jumlah_pekanlalu']\n",
        "\n",
        "print('Sepuluh data teratas:\\n', cov_sumut_mingguan.head(10))"
      ],
      "execution_count": 24,
      "outputs": [
        {
          "output_type": "stream",
          "name": "stdout",
          "text": [
            "Sepuluh data teratas:\n",
            "    tahun  minggu_ke  jumlah  jumlah_pekanlalu  lebih_baik\n",
            "0   2020         12       1                 0       False\n",
            "1   2020         13       0                 1        True\n",
            "2   2020         14      17                 0       False\n",
            "3   2020         15      40                17       False\n",
            "4   2020         16      16                40        True\n",
            "5   2020         17      30                16       False\n",
            "6   2020         18      12                30        True\n",
            "7   2020         19      56                12       False\n",
            "8   2020         20      39                56        True\n",
            "9   2020         21      93                39       False\n"
          ]
        }
      ]
    },
    {
      "cell_type": "markdown",
      "metadata": {
        "id": "PKyGPOYFtdU2"
      },
      "source": [
        "Visualisasi Data Mingguan"
      ]
    },
    {
      "cell_type": "code",
      "metadata": {
        "colab": {
          "base_uri": "https://localhost:8080/",
          "height": 473
        },
        "id": "7TomFl2NrJd5",
        "outputId": "22a824d8-2a45-4e07-e7c4-815578c4ea5d"
      },
      "source": [
        "plt.clf()\n",
        "jml_tahun_terjadi_covid19 = cov_sumut_mingguan['tahun'].nunique()\n",
        "tahun_terjadi_covid19 = cov_sumut_mingguan['tahun'].unique()\n",
        "fig,axes = plt.subplots(nrows=jml_tahun_terjadi_covid19, figsize=(10,3*jml_tahun_terjadi_covid19))\n",
        "\n",
        "fig.suptitle('Kasus Mingguan Positif COVID-19 di Sumatera Utara', y=1.00, fontweight='bold', ha='center')\n",
        "for i,ax in enumerate(axes):\n",
        "  ax.bar(data=cov_sumut_mingguan.loc[cov_sumut_mingguan['tahun']==tahun_terjadi_covid19[i]], x = 'minggu_ke', height='jumlah', color=['mediumseagreen' if x is True else 'salmon' for x in cov_sumut_mingguan['lebih_baik']])\n",
        "  if i == 0:\n",
        "    ax.set_title('Kolom hijau menunjukkan penambahan kasus baru lebih sedikit dibandingkan satu minggu sebelumnya', fontsize=10)\n",
        "  elif i == jml_tahun_terjadi_covid19 - 1 :\n",
        "    ax.text(1,-0.2,'Sumber data: covid.19.go.id', color='blue', ha='right', transform=ax.transAxes)\n",
        "    \n",
        "    ax.set_xlim([0, 52.5])\n",
        "    ax.set_ylim([0, max(cov_sumut_mingguan['jumlah'])])\n",
        "    ax.set_xlabel('')\n",
        "    ax.set_ylabel('Jumlah kasus %d' %(tahun_terjadi_covid19[i],))\n",
        "    ax.grid(axis='y')\n",
        "\n",
        "plt.tight_layout()\n",
        "plt.show()\n",
        "\t\t\t\t\t\t\t\t\t\t\t\t\t\t\t\t\t\t\t"
      ],
      "execution_count": 26,
      "outputs": [
        {
          "output_type": "display_data",
          "data": {
            "text/plain": [
              "<Figure size 432x288 with 0 Axes>"
            ]
          },
          "metadata": {}
        },
        {
          "output_type": "display_data",
          "data": {
            "image/png": "[encoded data removed]",
            "text/plain": [
              "<Figure size 720x432 with 2 Axes>"
            ]
          },
          "metadata": {
            "needs_background": "light"
          }
        }
      ]
    }
  ]
}