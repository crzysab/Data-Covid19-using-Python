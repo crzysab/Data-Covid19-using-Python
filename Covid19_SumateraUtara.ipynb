{
  "nbformat": 4,
  "nbformat_minor": 0,
  "metadata": {
    "colab": {
      "name": "Covid19-SumateraUtara.ipynb",
      "provenance": [],
      "authorship_tag": "ABX9TyP3dKKucd25kaa//6in+Ipl",
      "include_colab_link": true
    },
    "kernelspec": {
      "name": "python3",
      "display_name": "Python 3"
    },
    "language_info": {
      "name": "python"
    }
  },
  "cells": [
    {
      "cell_type": "markdown",
      "metadata": {
        "id": "view-in-github",
        "colab_type": "text"
      },
      "source": [
        "<a href=\"https://colab.research.google.com/github/crzysab/Data-Covid19-using-Python/blob/main/Covid19_SumateraUtara.ipynb\" target=\"_parent\"><img src=\"https://colab.research.google.com/assets/colab-badge.svg\" alt=\"Open In Colab\"/></a>"
      ]
    },
    {
      "cell_type": "code",
      "metadata": {
        "id": "126cPLFuJIz2"
      },
      "source": [
        "import requests\n",
        "resp = requests.get('https://data.covid19.go.id/public/api/update.json')"
      ],
      "execution_count": 1,
      "outputs": []
    },
    {
      "cell_type": "code",
      "metadata": {
        "colab": {
          "base_uri": "https://localhost:8080/"
        },
        "id": "LudTQBpQKKCR",
        "outputId": "aeff4d75-a8ff-4283-ece3-aaca8bdd5609"
      },
      "source": [
        "resp"
      ],
      "execution_count": 2,
      "outputs": [
        {
          "output_type": "execute_result",
          "data": {
            "text/plain": [
              "<Response [200]>"
            ]
          },
          "metadata": {},
          "execution_count": 2
        }
      ]
    },
    {
      "cell_type": "code",
      "metadata": {
        "colab": {
          "base_uri": "https://localhost:8080/"
        },
        "id": "CpJjBfJaKuNk",
        "outputId": "0b40ebb2-27cc-40a6-de08-8a173dbd813b"
      },
      "source": [
        "resp.headers"
      ],
      "execution_count": 6,
      "outputs": [
        {
          "output_type": "execute_result",
          "data": {
            "text/plain": [
              "{'Server': 'nginx', 'Date': 'Mon, 06 Sep 2021 03:30:34 GMT', 'Content-Type': 'application/json', 'Transfer-Encoding': 'chunked', 'Connection': 'keep-alive', 'Vary': 'Accept-Encoding, Accept-Encoding', 'Last-Modified': 'Mon, 06 Sep 2021 03:29:13 GMT', 'ETag': 'W/\"61358b09-3443b\"', 'X-Content-Type-Options': 'nosniff, nosniff', 'X-XSS-Protection': '1; mode=block, 1; mode=block', 'Strict-Transport-Security': 'max-age=31536000; includeSubDomains; preload', 'Content-Encoding': 'gzip'}"
            ]
          },
          "metadata": {},
          "execution_count": 6
        }
      ]
    },
    {
      "cell_type": "code",
      "metadata": {
        "colab": {
          "base_uri": "https://localhost:8080/"
        },
        "id": "wI7sX86mN_Vy",
        "outputId": "c95e45d8-57fc-4b85-b4b8-d0d7f0d15385"
      },
      "source": [
        "cov_id_raw = resp.json()\n",
        "print('Length of cov_id_raw : %d.' %len(cov_id_raw))\n",
        "print('Komponen cov_id_raw  : %s.' %cov_id_raw.keys())\n",
        "cov_id_update = cov_id_raw['update']"
      ],
      "execution_count": 8,
      "outputs": [
        {
          "output_type": "stream",
          "name": "stdout",
          "text": [
            "Length of cov_id_raw : 2.\n",
            "Komponen cov_id_raw  : dict_keys(['data', 'update']).\n"
          ]
        }
      ]
    },
    {
      "cell_type": "code",
      "metadata": {
        "colab": {
          "base_uri": "https://localhost:8080/"
        },
        "id": "v-_wovtbOoUx",
        "outputId": "2d419aa0-603e-4757-d476-4e0b5c87dcea"
      },
      "source": [
        "cov_id_update.keys()"
      ],
      "execution_count": 14,
      "outputs": [
        {
          "output_type": "execute_result",
          "data": {
            "text/plain": [
              "dict_keys(['penambahan', 'harian', 'total'])"
            ]
          },
          "metadata": {},
          "execution_count": 14
        }
      ]
    },
    {
      "cell_type": "code",
      "metadata": {
        "colab": {
          "base_uri": "https://localhost:8080/"
        },
        "id": "d8MdkOMpTWnr",
        "outputId": "fb4160a8-3183-4131-aef5-966a4cc17325"
      },
      "source": [
        "print('Tanggal pembaharuan data penambahan kasus   :', cov_id_update['penambahan']['tanggal'])\n",
        "print('Jumlah penambahan kasus sembuh  :', cov_id_update['penambahan']['jumlah_sembuh'])\n",
        "print('Jumlah penambahan kasus meninggal  :', cov_id_update['penambahan']['jumlah_meninggal'])\n",
        "print('Jumlah total kasus positif hingga saat ini  :', cov_id_update['total']['jumlah_positif'])\n",
        "print('Jumlah total kasus meninggal hingga saat ini  :', cov_id_update['total']['jumlah_meninggal'])"
      ],
      "execution_count": 15,
      "outputs": [
        {
          "output_type": "stream",
          "name": "stdout",
          "text": [
            "Tanggal pembaharuan data penambahan kasus   : 2021-09-05\n",
            "Jumlah penambahan kasus sembuh  : 10191\n",
            "Jumlah penambahan kasus meninggal  : 392\n",
            "Jumlah total kasus positif hingga saat ini  : 4129020\n",
            "Jumlah total kasus meninggal hingga saat ini  : 135861\n"
          ]
        }
      ]
    },
    {
      "cell_type": "code",
      "metadata": {
        "id": "3WKWZWl7Vsxk"
      },
      "source": [
        "resp_sumut = requests.get('https://data.covid19.go.id/public/api/prov_detail_SUMATERA_UTARA.json')\n",
        "cov_sumut_raw = resp_sumut.json()"
      ],
      "execution_count": 21,
      "outputs": []
    },
    {
      "cell_type": "code",
      "metadata": {
        "colab": {
          "base_uri": "https://localhost:8080/"
        },
        "id": "9LO35ABZWFWX",
        "outputId": "0651a4d9-2169-49e7-8468-dbb595b7ddb9"
      },
      "source": [
        "resp_sumut"
      ],
      "execution_count": 23,
      "outputs": [
        {
          "output_type": "execute_result",
          "data": {
            "text/plain": [
              "<Response [200]>"
            ]
          },
          "metadata": {},
          "execution_count": 23
        }
      ]
    },
    {
      "cell_type": "code",
      "metadata": {
        "colab": {
          "base_uri": "https://localhost:8080/"
        },
        "id": "AYmlylEmWy36",
        "outputId": "12a98b72-66b1-431f-bef1-939a0c52ed78"
      },
      "source": [
        "for item in cov_sumut_raw.keys() :\n",
        "  print(item)"
      ],
      "execution_count": 25,
      "outputs": [
        {
          "output_type": "stream",
          "name": "stdout",
          "text": [
            "last_date\n",
            "provinsi\n",
            "kasus_total\n",
            "kasus_tanpa_tgl\n",
            "kasus_dengan_tgl\n",
            "meninggal_persen\n",
            "meninggal_tanpa_tgl\n",
            "meninggal_dengan_tgl\n",
            "sembuh_persen\n",
            "sembuh_tanpa_tgl\n",
            "sembuh_dengan_tgl\n",
            "list_perkembangan\n",
            "data\n"
          ]
        }
      ]
    },
    {
      "cell_type": "code",
      "metadata": {
        "colab": {
          "base_uri": "https://localhost:8080/"
        },
        "id": "IpPHT6eJXFCJ",
        "outputId": "934b3e86-f02c-4078-9631-2fe3c5031582"
      },
      "source": [
        "cov_sumut_raw['kasus_total']"
      ],
      "execution_count": 26,
      "outputs": [
        {
          "output_type": "execute_result",
          "data": {
            "text/plain": [
              "97740"
            ]
          },
          "metadata": {},
          "execution_count": 26
        }
      ]
    },
    {
      "cell_type": "code",
      "metadata": {
        "colab": {
          "base_uri": "https://localhost:8080/"
        },
        "id": "exmOrmLWXgUw",
        "outputId": "6f71c7e2-b889-431d-b0bb-532e9c849601"
      },
      "source": [
        "print('\\nJumlah total kasus COVID-19 di Sumatera Utara                 : %d' %cov_sumut_raw['kasus_total'])\n",
        "print('Persentase kematian akibat COVID-19 di Sumatera Utara         : %f.2%%' %cov_sumut_raw['meninggal_persen'])\n",
        "print('Persentase tingkat kesembuhan dari COVID-19 di Sumatera Utara : %f.2%%' %cov_sumut_raw['sembuh_persen'])"
      ],
      "execution_count": 29,
      "outputs": [
        {
          "output_type": "stream",
          "name": "stdout",
          "text": [
            "\n",
            "Jumlah total kasus COVID-19 di Sumatera Utara                 : 97740\n",
            "Persentase kematian akibat COVID-19 di Sumatera Utara         : 2.488234.2%\n",
            "Persentase tingkat kesembuhan dari COVID-19 di Sumatera Utara : 78.283200.2%\n"
          ]
        }
      ]
    },
    {
      "cell_type": "code",
      "metadata": {
        "colab": {
          "base_uri": "https://localhost:8080/"
        },
        "id": "C5eicDxNYdcc",
        "outputId": "2a73f479-1151-4e16-d998-5dc0e2d59848"
      },
      "source": [
        "import numpy as np\n",
        "import pandas as pd\n",
        "\n",
        "cov_sumut = pd.DataFrame(cov_sumut_raw['list_perkembangan'])\n",
        "print('Info cov_sumut:\\n', cov_sumut.info())\n",
        "print('\\nLima data teratas cov_sumut:\\n', cov_sumut.head())"
      ],
      "execution_count": 34,
      "outputs": [
        {
          "output_type": "stream",
          "name": "stdout",
          "text": [
            "<class 'pandas.core.frame.DataFrame'>\n",
            "RangeIndex: 535 entries, 0 to 534\n",
            "Data columns (total 9 columns):\n",
            " #   Column                        Non-Null Count  Dtype\n",
            "---  ------                        --------------  -----\n",
            " 0   tanggal                       535 non-null    int64\n",
            " 1   KASUS                         535 non-null    int64\n",
            " 2   MENINGGAL                     535 non-null    int64\n",
            " 3   SEMBUH                        535 non-null    int64\n",
            " 4   DIRAWAT_OR_ISOLASI            535 non-null    int64\n",
            " 5   AKUMULASI_KASUS               535 non-null    int64\n",
            " 6   AKUMULASI_SEMBUH              535 non-null    int64\n",
            " 7   AKUMULASI_MENINGGAL           535 non-null    int64\n",
            " 8   AKUMULASI_DIRAWAT_OR_ISOLASI  535 non-null    int64\n",
            "dtypes: int64(9)\n",
            "memory usage: 37.7 KB\n",
            "Info cov_sumut:\n",
            " None\n",
            "\n",
            "Lima data teratas cov_sumut:\n",
            "          tanggal  KASUS  ...  AKUMULASI_MENINGGAL  AKUMULASI_DIRAWAT_OR_ISOLASI\n",
            "0  1584403200000      1  ...                    1                             0\n",
            "1  1584489600000      0  ...                    1                             0\n",
            "2  1584576000000      0  ...                    1                             0\n",
            "3  1584662400000      0  ...                    1                             0\n",
            "4  1584748800000      0  ...                    1                             0\n",
            "\n",
            "[5 rows x 9 columns]\n"
          ]
        }
      ]
    },
    {
      "cell_type": "code",
      "metadata": {
        "colab": {
          "base_uri": "https://localhost:8080/"
        },
        "id": "N0Q7W-tubTHp",
        "outputId": "1cd2c55d-1520-470c-c882-d3f8045a0dfe"
      },
      "source": [
        "import numpy as np\n",
        "import pandas as pd\n",
        "\n",
        "cov_sumut_tidy = (cov_sumut.drop(columns=[item for item in cov_sumut.columns \n",
        "                                               if item.startswith('AKUMULASI') \n",
        "                                                  or item.startswith('DIRAWAT')])\n",
        "                           .rename(columns=str.lower)\n",
        "                           .rename(columns={'kasus': 'kasus_baru'})\n",
        "                  )\n",
        "cov_sumut_tidy['tanggal'] = pd.to_datetime(cov_sumut_tidy['tanggal']*1e6, unit='ns')\n",
        "print('Lima data teratas:\\n', cov_sumut_tidy.head())"
      ],
      "execution_count": 42,
      "outputs": [
        {
          "output_type": "stream",
          "name": "stdout",
          "text": [
            "Lima data teratas:\n",
            "      tanggal  kasus_baru  meninggal  sembuh\n",
            "0 2020-03-17           1          1       0\n",
            "1 2020-03-18           0          0       0\n",
            "2 2020-03-19           0          0       0\n",
            "3 2020-03-20           0          0       0\n",
            "4 2020-03-21           0          0       0\n"
          ]
        }
      ]
    },
    {
      "cell_type": "code",
      "metadata": {
        "colab": {
          "base_uri": "https://localhost:8080/"
        },
        "id": "QinyG-gqm0K4",
        "outputId": "78dddf7f-6037-4f22-d3d0-5075687be8e0"
      },
      "source": [
        "cov_jabar_tidy.columns"
      ],
      "execution_count": 46,
      "outputs": [
        {
          "output_type": "execute_result",
          "data": {
            "text/plain": [
              "Index(['tanggal', 'kasus_baru', 'meninggal', 'sembuh'], dtype='object')"
            ]
          },
          "metadata": {},
          "execution_count": 46
        }
      ]
    },
    {
      "cell_type": "code",
      "metadata": {
        "colab": {
          "base_uri": "https://localhost:8080/",
          "height": 354
        },
        "id": "BImgMXZGdSce",
        "outputId": "55b696af-7bb8-40a0-d4ea-62d8bef4b135"
      },
      "source": [
        "import matplotlib.pyplot as plt\n",
        "\n",
        "plt.clf()\n",
        "fig, ax = plt.subplots(figsize=(10,5))\n",
        "ax.bar(data=cov_sumut_tidy, x='tanggal', height='kasus_baru')"
      ],
      "execution_count": 66,
      "outputs": [
        {
          "output_type": "execute_result",
          "data": {
            "text/plain": [
              "<BarContainer object of 535 artists>"
            ]
          },
          "metadata": {},
          "execution_count": 66
        },
        {
          "output_type": "display_data",
          "data": {
            "text/plain": [
              "<Figure size 432x288 with 0 Axes>"
            ]
          },
          "metadata": {}
        },
        {
          "output_type": "display_data",
          "data": {
            "image/png": "[encoded data removed]",
            "text/plain": [
              "<Figure size 720x360 with 1 Axes>"
            ]
          },
          "metadata": {
            "needs_background": "light"
          }
        }
      ]
    },
    {
      "cell_type": "code",
      "metadata": {
        "colab": {
          "base_uri": "https://localhost:8080/",
          "height": 388
        },
        "id": "q7Ruqwg4qxFt",
        "outputId": "526c96f5-586f-4631-e599-93ce81be4d3e"
      },
      "source": [
        "import matplotlib.dates as mdates\n",
        "\n",
        "plt.clf()\n",
        "fig, ax = plt.subplots(figsize=(10,5))\n",
        "ax.bar(data=cov_sumut_tidy, x='tanggal', height='kasus_baru', color='salmon')\n",
        "fig.suptitle(\"Kasus Harian Positif COVID-19 di Sumatera Utara\", \n",
        "             y=1.00, fontsize=16, fontweight='bold', ha='center')\n",
        "ax.set_title(\" \",fontsize=10)\n",
        "ax.set_xlabel('')\n",
        "ax.set_ylabel(\"Jumlah Kasus\")\n",
        "ax.text(1, -0.3, \"Sumber data: covid19.go.id\", color='blue',\n",
        "        ha='right', transform=ax.transAxes)\n",
        "ax.set_xticklabels(ax.get_xticks(), rotation=90)\n",
        "\n",
        "ax.xaxis.set_major_locator(mdates.MonthLocator())\n",
        "ax.xaxis.set_major_formatter(mdates.DateFormatter('%b %Y'))\n",
        "\n",
        "plt.grid(axis='y')\n",
        "plt.tight_layout()\n",
        "plt.show()"
      ],
      "execution_count": 64,
      "outputs": [
        {
          "output_type": "display_data",
          "data": {
            "text/plain": [
              "<Figure size 432x288 with 0 Axes>"
            ]
          },
          "metadata": {}
        },
        {
          "output_type": "display_data",
          "data": {
            "image/png": "[encoded data removed]",
            "text/plain": [
              "<Figure size 720x360 with 1 Axes>"
            ]
          },
          "metadata": {
            "needs_background": "light"
          }
        }
      ]
    },
    {
      "cell_type": "code",
      "metadata": {
        "colab": {
          "base_uri": "https://localhost:8080/",
          "height": 388
        },
        "id": "xEQux6VFzpma",
        "outputId": "98ddd30d-be97-4e80-dc84-7225c753cdd5"
      },
      "source": [
        "plt.clf()\n",
        "fig, ax = plt.subplots(figsize=(10,5))\n",
        "ax.bar(data=cov_sumut_tidy, x='tanggal', height='sembuh', color='olivedrab')\n",
        "fig.suptitle(\"Kasus Harian Sembuh Dari COVID-19 di Sumatera Utara\", \n",
        "             y=1.00, fontsize=16, fontweight='bold', ha='center')\n",
        "ax.set_title(\" \",fontsize=10)\n",
        "ax.set_xlabel('')\n",
        "ax.set_ylabel(\"Jumlah Kasus\")\n",
        "ax.text(1, -0.3, \"Sumber data: covid19.go.id\", color='blue',\n",
        "        ha='right', transform=ax.transAxes)\n",
        "ax.set_xticklabels(ax.get_xticks(), rotation=90)\n",
        "\n",
        "ax.xaxis.set_major_locator(mdates.MonthLocator())\n",
        "ax.xaxis.set_major_formatter(mdates.DateFormatter('%b %Y'))\n",
        "\n",
        "plt.grid(axis='y')\n",
        "plt.tight_layout()\n",
        "plt.show()"
      ],
      "execution_count": 65,
      "outputs": [
        {
          "output_type": "display_data",
          "data": {
            "text/plain": [
              "<Figure size 432x288 with 0 Axes>"
            ]
          },
          "metadata": {}
        },
        {
          "output_type": "display_data",
          "data": {
            "image/png": "[encoded data removed]",
            "text/plain": [
              "<Figure size 720x360 with 1 Axes>"
            ]
          },
          "metadata": {
            "needs_background": "light"
          }
        }
      ]
    },
    {
      "cell_type": "code",
      "metadata": {
        "colab": {
          "base_uri": "https://localhost:8080/",
          "height": 388
        },
        "id": "sxSxTxXS1rXI",
        "outputId": "e8b0547d-0a66-4220-c6aa-b300711b9c33"
      },
      "source": [
        "plt.clf()\n",
        "fig, ax = plt.subplots(figsize=(10,5))\n",
        "ax.bar(data=cov_sumut_tidy, x='tanggal', height='meninggal', color='slategrey')\n",
        "fig.suptitle(\"Kasus Harian Meninggal Dari COVID-19 di Sumatera Utara\", \n",
        "             y=1.00, fontsize=16, fontweight='bold', ha='center')\n",
        "ax.set_title(\" \",fontsize=10)\n",
        "ax.set_xlabel('')\n",
        "ax.set_ylabel(\"Jumlah Kasus\")\n",
        "ax.text(1, -0.3, \"Sumber data: covid19.go.id\", color='blue',\n",
        "        ha='right', transform=ax.transAxes)\n",
        "ax.set_xticklabels(ax.get_xticks(), rotation=90)\n",
        "\n",
        "ax.xaxis.set_major_locator(mdates.MonthLocator())\n",
        "ax.xaxis.set_major_formatter(mdates.DateFormatter('%b %Y'))\n",
        "\n",
        "plt.grid(axis='y')\n",
        "plt.tight_layout()\n",
        "plt.show()"
      ],
      "execution_count": 67,
      "outputs": [
        {
          "output_type": "display_data",
          "data": {
            "text/plain": [
              "<Figure size 432x288 with 0 Axes>"
            ]
          },
          "metadata": {}
        },
        {
          "output_type": "display_data",
          "data": {
            "image/png": "[encoded data removed]",
            "text/plain": [
              "<Figure size 720x360 with 1 Axes>"
            ]
          },
          "metadata": {
            "needs_background": "light"
          }
        }
      ]
    }
  ]
}